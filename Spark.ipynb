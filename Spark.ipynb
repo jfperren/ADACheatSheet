{
 "cells": [
  {
   "cell_type": "markdown",
   "metadata": {},
   "source": [
    "### Spark Initialization"
   ]
  },
  {
   "cell_type": "code",
   "execution_count": 46,
   "metadata": {},
   "outputs": [],
   "source": [
    "import findspark\n",
    "findspark.init()\n",
    "\n",
    "import pyspark\n",
    "# from pyspark.sql import *\n",
    "import pyspark.sql.functions as func\n",
    "\n",
    "spark = SparkSession.builder.getOrCreate()"
   ]
  },
  {
   "cell_type": "markdown",
   "metadata": {},
   "source": [
    "### Load Data"
   ]
  },
  {
   "cell_type": "markdown",
   "metadata": {},
   "source": [
    "##### CSV & JSON"
   ]
  },
  {
   "cell_type": "code",
   "execution_count": 33,
   "metadata": {},
   "outputs": [],
   "source": [
    "pokemon_df = spark.read.csv(\"pokemon.csv\", header=True)\n",
    "combats_df = spark.read.csv(\"combats.csv\", header=True)\n",
    "# spark.read.json(\"data/Posts.json\")"
   ]
  },
  {
   "cell_type": "markdown",
   "metadata": {},
   "source": [
    "##### Parquet"
   ]
  },
  {
   "cell_type": "code",
   "execution_count": null,
   "metadata": {},
   "outputs": [],
   "source": [
    "posts_df = spark.read.load(\"posts.parquet\")\n",
    "answers_df.write.mode('overwrite').parquet(\"answers.parquet\")"
   ]
  },
  {
   "cell_type": "markdown",
   "metadata": {},
   "source": [
    "### Actions"
   ]
  },
  {
   "cell_type": "code",
   "execution_count": 23,
   "metadata": {},
   "outputs": [
    {
     "name": "stdout",
     "output_type": "stream",
     "text": [
      "+---+---------+-------+-------+---+------+-------+-------+-------+-----+---------+\n",
      "|pid|     Name|Class 1|Class 2| HP|Attack|Defense|Sp. Atk|Sp. Def|Speed|Legendary|\n",
      "+---+---------+-------+-------+---+------+-------+-------+-------+-----+---------+\n",
      "|  1|Bulbasaur|  Grass| Poison| 45|    49|     49|     65|     65|   45|    FALSE|\n",
      "|  2|  Ivysaur|  Grass| Poison| 60|    62|     63|     80|     80|   60|    FALSE|\n",
      "|  3| Venusaur|  Grass| Poison| 80|    82|     83|    100|    100|   80|    FALSE|\n",
      "+---+---------+-------+-------+---+------+-------+-------+-------+-----+---------+\n",
      "only showing top 3 rows\n",
      "\n"
     ]
    }
   ],
   "source": [
    "pokemon_df.show(3)"
   ]
  },
  {
   "cell_type": "code",
   "execution_count": 24,
   "metadata": {},
   "outputs": [
    {
     "data": {
      "text/plain": [
       "800"
      ]
     },
     "execution_count": 24,
     "metadata": {},
     "output_type": "execute_result"
    }
   ],
   "source": [
    "pokemon_df.count()"
   ]
  },
  {
   "cell_type": "code",
   "execution_count": 25,
   "metadata": {},
   "outputs": [
    {
     "data": {
      "text/plain": [
       "DataFrame[summary: string, pid: string, Name: string, Class 1: string, Class 2: string, HP: string, Attack: string, Defense: string, Sp. Atk: string, Sp. Def: string, Speed: string, Legendary: string]"
      ]
     },
     "execution_count": 25,
     "metadata": {},
     "output_type": "execute_result"
    }
   ],
   "source": [
    "pokemon_df.describe()"
   ]
  },
  {
   "cell_type": "code",
   "execution_count": 30,
   "metadata": {},
   "outputs": [
    {
     "name": "stdout",
     "output_type": "stream",
     "text": [
      "root\n",
      " |-- pid: string (nullable = true)\n",
      " |-- Name: string (nullable = true)\n",
      " |-- Class 1: string (nullable = true)\n",
      " |-- Class 2: string (nullable = true)\n",
      " |-- HP: string (nullable = true)\n",
      " |-- Attack: string (nullable = true)\n",
      " |-- Defense: string (nullable = true)\n",
      " |-- Sp. Atk: string (nullable = true)\n",
      " |-- Sp. Def: string (nullable = true)\n",
      " |-- Speed: string (nullable = true)\n",
      " |-- Legendary: string (nullable = true)\n",
      "\n"
     ]
    }
   ],
   "source": [
    "pokemon_df.printSchema()"
   ]
  },
  {
   "cell_type": "markdown",
   "metadata": {},
   "source": [
    "### Maps"
   ]
  },
  {
   "cell_type": "code",
   "execution_count": 89,
   "metadata": {},
   "outputs": [],
   "source": [
    "# Casting\n",
    "pokemon_df = pokemon_df.withColumn('Speed', pokemon_df['Speed'].cast(\"float\"))\n",
    "\n",
    "# Combine columns\n",
    "_ = pokemon_df.withColumn('Atk+Def', pokemon_df['Attack'] + pokemon_df['Defense'])\n",
    "\n",
    "# Filter rows\n",
    "_ = pokemon_df.filter('Attack == 49')\n",
    "\n",
    "# Filter Columns\n",
    "_ = pokemon_df.select('pid', 'Attack', 'Defense')\n",
    "\n",
    "# Filter duplicates\n",
    "_ = pokemon_df.distinct()\n",
    "\n",
    "# Join two dataframes\n",
    "_ = combats_df.join(pokemon_df, combats_df.Winner == pokemon_df.pid)\n",
    "\n",
    "# Group by\n",
    "_ = pokemon_df.groupBy(\"Class 1\").agg(func.mean(\"Attack\").alias(\"Mean Attack\"))\n",
    "\n",
    "# Subsample\n",
    "_ = pokemon_df.sample(fraction=0.1)"
   ]
  },
  {
   "cell_type": "code",
   "execution_count": 20,
   "metadata": {
    "scrolled": true
   },
   "outputs": [
    {
     "data": {
      "text/plain": [
       "DataFrame[pid: string, Name: string, Class 1: string, Class 2: string, HP: string, Attack: string, Defense: string, Sp. Atk: string, Sp. Def: string, Speed: string, Legendary: string]"
      ]
     },
     "execution_count": 20,
     "metadata": {},
     "output_type": "execute_result"
    }
   ],
   "source": []
  },
  {
   "cell_type": "code",
   "execution_count": 83,
   "metadata": {},
   "outputs": [
    {
     "name": "stdout",
     "output_type": "stream",
     "text": [
      "+---+----------------+-------+-------+---+------+-------+-------+-------+-----+---------+\n",
      "|pid|            Name|Class 1|Class 2| HP|Attack|Defense|Sp. Atk|Sp. Def|Speed|Legendary|\n",
      "+---+----------------+-------+-------+---+------+-------+-------+-------+-----+---------+\n",
      "|  1|       Bulbasaur|  Grass| Poison| 45|    49|     49|     65|     65|   45|    FALSE|\n",
      "|  2|         Ivysaur|  Grass| Poison| 60|    62|     63|     80|     80|   60|    FALSE|\n",
      "|  3|        Venusaur|  Grass| Poison| 80|    82|     83|    100|    100|   80|    FALSE|\n",
      "|  4|   Mega Venusaur|  Grass| Poison| 80|   100|    123|    122|    120|   80|    FALSE|\n",
      "|  5|      Charmander|   Fire|   null| 39|    52|     43|     60|     50|   65|    FALSE|\n",
      "|  6|      Charmeleon|   Fire|   null| 58|    64|     58|     80|     65|   80|    FALSE|\n",
      "|  7|       Charizard|   Fire| Flying| 78|    84|     78|    109|     85|  100|    FALSE|\n",
      "|  8|Mega Charizard X|   Fire| Dragon| 78|   130|    111|    130|     85|  100|    FALSE|\n",
      "|  9|Mega Charizard Y|   Fire| Flying| 78|   104|     78|    159|    115|  100|    FALSE|\n",
      "| 10|        Squirtle|  Water|   null| 44|    48|     65|     50|     64|   43|    FALSE|\n",
      "| 11|       Wartortle|  Water|   null| 59|    63|     80|     65|     80|   58|    FALSE|\n",
      "| 12|       Blastoise|  Water|   null| 79|    83|    100|     85|    105|   78|    FALSE|\n",
      "| 13|  Mega Blastoise|  Water|   null| 79|   103|    120|    135|    115|   78|    FALSE|\n",
      "| 14|        Caterpie|    Bug|   null| 45|    30|     35|     20|     20|   45|    FALSE|\n",
      "| 15|         Metapod|    Bug|   null| 50|    20|     55|     25|     25|   30|    FALSE|\n",
      "| 16|      Butterfree|    Bug| Flying| 60|    45|     50|     90|     80|   70|    FALSE|\n",
      "| 17|          Weedle|    Bug| Poison| 40|    35|     30|     20|     20|   50|    FALSE|\n",
      "| 18|          Kakuna|    Bug| Poison| 45|    25|     50|     25|     25|   35|    FALSE|\n",
      "| 19|        Beedrill|    Bug| Poison| 65|    90|     40|     45|     80|   75|    FALSE|\n",
      "| 20|   Mega Beedrill|    Bug| Poison| 65|   150|     40|     15|     80|  145|    FALSE|\n",
      "+---+----------------+-------+-------+---+------+-------+-------+-------+-----+---------+\n",
      "only showing top 20 rows\n",
      "\n"
     ]
    }
   ],
   "source": [
    "pokemon_df.show()"
   ]
  },
  {
   "cell_type": "markdown",
   "metadata": {},
   "source": [
    "### Other Interactions"
   ]
  },
  {
   "cell_type": "markdown",
   "metadata": {},
   "source": [
    "##### Spark SQL"
   ]
  },
  {
   "cell_type": "code",
   "execution_count": 95,
   "metadata": {},
   "outputs": [
    {
     "name": "stdout",
     "output_type": "stream",
     "text": [
      "+--------------------+-----+\n",
      "|                Name|Speed|\n",
      "+--------------------+-----+\n",
      "|  Deoxys Speed Forme|180.0|\n",
      "| Deoxys Normal Forme|150.0|\n",
      "|  DeoxysAttack Forme|150.0|\n",
      "|Deoxys Defense Forme| 90.0|\n",
      "+--------------------+-----+\n",
      "\n"
     ]
    }
   ],
   "source": [
    "pokemon_df.registerTempTable('pokemon')\n",
    "\n",
    "\n",
    "spark.sql(\"\"\"\n",
    "SELECT Name, Speed\n",
    "FROM pokemon\n",
    "WHERE Name LIKE \"%Deoxys%\"\n",
    "ORDER BY Speed DESC\n",
    "\"\"\").show()"
   ]
  },
  {
   "cell_type": "markdown",
   "metadata": {},
   "source": [
    "##### RDD's"
   ]
  },
  {
   "cell_type": "code",
   "execution_count": 127,
   "metadata": {},
   "outputs": [
    {
     "name": "stdout",
     "output_type": "stream",
     "text": [
      "+-----+---------+\n",
      "|Speed|2 * Speed|\n",
      "+-----+---------+\n",
      "| 45.0|     90.0|\n",
      "| 60.0|    120.0|\n",
      "+-----+---------+\n",
      "only showing top 2 rows\n",
      "\n"
     ]
    }
   ],
   "source": [
    "pokemon_df.select('Speed').rdd.map(lambda row: [row[0], row['Speed']*2]).toDF(['Speed', '2 * Speed']).show(2)"
   ]
  },
  {
   "cell_type": "markdown",
   "metadata": {},
   "source": [
    "##### Pandas"
   ]
  },
  {
   "cell_type": "code",
   "execution_count": 129,
   "metadata": {},
   "outputs": [
    {
     "data": {
      "text/html": [
       "<div>\n",
       "<style scoped>\n",
       "    .dataframe tbody tr th:only-of-type {\n",
       "        vertical-align: middle;\n",
       "    }\n",
       "\n",
       "    .dataframe tbody tr th {\n",
       "        vertical-align: top;\n",
       "    }\n",
       "\n",
       "    .dataframe thead th {\n",
       "        text-align: right;\n",
       "    }\n",
       "</style>\n",
       "<table border=\"1\" class=\"dataframe\">\n",
       "  <thead>\n",
       "    <tr style=\"text-align: right;\">\n",
       "      <th></th>\n",
       "      <th>pid</th>\n",
       "      <th>Name</th>\n",
       "      <th>Class 1</th>\n",
       "      <th>Class 2</th>\n",
       "      <th>HP</th>\n",
       "      <th>Attack</th>\n",
       "      <th>Defense</th>\n",
       "      <th>Sp. Atk</th>\n",
       "      <th>Sp. Def</th>\n",
       "      <th>Speed</th>\n",
       "      <th>Legendary</th>\n",
       "    </tr>\n",
       "  </thead>\n",
       "  <tbody>\n",
       "    <tr>\n",
       "      <th>0</th>\n",
       "      <td>1</td>\n",
       "      <td>Bulbasaur</td>\n",
       "      <td>Grass</td>\n",
       "      <td>Poison</td>\n",
       "      <td>45</td>\n",
       "      <td>49</td>\n",
       "      <td>49</td>\n",
       "      <td>65</td>\n",
       "      <td>65</td>\n",
       "      <td>45.0</td>\n",
       "      <td>FALSE</td>\n",
       "    </tr>\n",
       "    <tr>\n",
       "      <th>1</th>\n",
       "      <td>2</td>\n",
       "      <td>Ivysaur</td>\n",
       "      <td>Grass</td>\n",
       "      <td>Poison</td>\n",
       "      <td>60</td>\n",
       "      <td>62</td>\n",
       "      <td>63</td>\n",
       "      <td>80</td>\n",
       "      <td>80</td>\n",
       "      <td>60.0</td>\n",
       "      <td>FALSE</td>\n",
       "    </tr>\n",
       "  </tbody>\n",
       "</table>\n",
       "</div>"
      ],
      "text/plain": [
       "  pid       Name Class 1 Class 2  HP Attack Defense Sp. Atk Sp. Def  Speed  \\\n",
       "0   1  Bulbasaur   Grass  Poison  45     49      49      65      65   45.0   \n",
       "1   2    Ivysaur   Grass  Poison  60     62      63      80      80   60.0   \n",
       "\n",
       "  Legendary  \n",
       "0     FALSE  \n",
       "1     FALSE  "
      ]
     },
     "execution_count": 129,
     "metadata": {},
     "output_type": "execute_result"
    }
   ],
   "source": [
    "pokemon_df.toPandas().head(2)"
   ]
  },
  {
   "cell_type": "code",
   "execution_count": null,
   "metadata": {},
   "outputs": [],
   "source": []
  }
 ],
 "metadata": {
  "kernelspec": {
   "display_name": "Python [conda env:ada]",
   "language": "python",
   "name": "conda-env-ada-py"
  },
  "language_info": {
   "codemirror_mode": {
    "name": "ipython",
    "version": 3
   },
   "file_extension": ".py",
   "mimetype": "text/x-python",
   "name": "python",
   "nbconvert_exporter": "python",
   "pygments_lexer": "ipython3",
   "version": "3.6.8"
  }
 },
 "nbformat": 4,
 "nbformat_minor": 2
}
