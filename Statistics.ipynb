{
 "cells": [
  {
   "cell_type": "code",
   "execution_count": 16,
   "metadata": {},
   "outputs": [],
   "source": [
    "from scipy import stats\n",
    "import pandas as pd\n",
    "import numpy as np\n",
    "\n",
    "data = pd.read_csv('pokemon.csv')"
   ]
  },
  {
   "cell_type": "markdown",
   "metadata": {},
   "source": [
    "### Correlation Metrics\n",
    "\n",
    "##### Pearson\n",
    "\n",
    "The Pearson correlation coefficient is a measure of the linear correlation between two variables X and Y. According to the Cauchy–Schwarz inequality it has a value between +1 and −1, where 1 is total positive linear correlation, 0 is no linear correlation, and −1 is total negative linear correlation.\n",
    "\n",
    "$$\n",
    "{\\displaystyle r_{xy}={\\frac {\\sum _{i=1}^{n}(x_{i}-{\\bar {x}})(y_{i}-{\\bar {y}})}{{\\sqrt {\\sum _{i=1}^{n}(x_{i}-{\\bar {x}})^{2}}}{\\sqrt {\\sum _{i=1}^{n}(y_{i}-{\\bar {y}})^{2}}}}}}\n",
    "$$"
   ]
  },
  {
   "cell_type": "code",
   "execution_count": 11,
   "metadata": {},
   "outputs": [
    {
     "name": "stdout",
     "output_type": "stream",
     "text": [
      "The correlation coefficient is 0.43868705511848954 with a 5.858479864288463e-39 p-value\n"
     ]
    }
   ],
   "source": [
    "# Using scipy, between two values (p-value only useful for n > 500)\n",
    "corr_coeff, p_value = stats.pearsonr(data['Attack'], data['Defense'])\n",
    "\n",
    "print('The correlation coefficient is {} with a {} p-value'.format(corr_coeff, p_value))"
   ]
  },
  {
   "cell_type": "code",
   "execution_count": 17,
   "metadata": {},
   "outputs": [
    {
     "data": {
      "text/html": [
       "<div>\n",
       "<style scoped>\n",
       "    .dataframe tbody tr th:only-of-type {\n",
       "        vertical-align: middle;\n",
       "    }\n",
       "\n",
       "    .dataframe tbody tr th {\n",
       "        vertical-align: top;\n",
       "    }\n",
       "\n",
       "    .dataframe thead th {\n",
       "        text-align: right;\n",
       "    }\n",
       "</style>\n",
       "<table border=\"1\" class=\"dataframe\">\n",
       "  <thead>\n",
       "    <tr style=\"text-align: right;\">\n",
       "      <th></th>\n",
       "      <th>Attack</th>\n",
       "      <th>HP</th>\n",
       "      <th>Defense</th>\n",
       "      <th>Speed</th>\n",
       "    </tr>\n",
       "  </thead>\n",
       "  <tbody>\n",
       "    <tr>\n",
       "      <th>Attack</th>\n",
       "      <td>1.000000</td>\n",
       "      <td>0.422386</td>\n",
       "      <td>0.438687</td>\n",
       "      <td>0.381240</td>\n",
       "    </tr>\n",
       "    <tr>\n",
       "      <th>HP</th>\n",
       "      <td>0.422386</td>\n",
       "      <td>1.000000</td>\n",
       "      <td>0.239622</td>\n",
       "      <td>0.175952</td>\n",
       "    </tr>\n",
       "    <tr>\n",
       "      <th>Defense</th>\n",
       "      <td>0.438687</td>\n",
       "      <td>0.239622</td>\n",
       "      <td>1.000000</td>\n",
       "      <td>0.015227</td>\n",
       "    </tr>\n",
       "    <tr>\n",
       "      <th>Speed</th>\n",
       "      <td>0.381240</td>\n",
       "      <td>0.175952</td>\n",
       "      <td>0.015227</td>\n",
       "      <td>1.000000</td>\n",
       "    </tr>\n",
       "  </tbody>\n",
       "</table>\n",
       "</div>"
      ],
      "text/plain": [
       "           Attack        HP   Defense     Speed\n",
       "Attack   1.000000  0.422386  0.438687  0.381240\n",
       "HP       0.422386  1.000000  0.239622  0.175952\n",
       "Defense  0.438687  0.239622  1.000000  0.015227\n",
       "Speed    0.381240  0.175952  0.015227  1.000000"
      ]
     },
     "execution_count": 17,
     "metadata": {},
     "output_type": "execute_result"
    }
   ],
   "source": [
    "# Using pandas, between all columns\n",
    "data[['Attack', 'HP', 'Defense', 'Speed']].corr(method='pearson')"
   ]
  },
  {
   "cell_type": "code",
   "execution_count": 18,
   "metadata": {},
   "outputs": [],
   "source": [
    "def compute_pearson_CI(r, sample_size, alpha):\n",
    "    '''\n",
    "    will compute the ((1-alpha)*100)% confidence interval\n",
    "    of the correlation coefficient \"r\", according to the\n",
    "    size of the sample used to compute \"r\" called \"sample_size\"\n",
    "    \n",
    "    Implemented following those two links as reference : \n",
    "        -http://onlinestatbook.com/2/estimation/correlation_ci.html\n",
    "        -https://zhiyzuo.github.io/Pearson-Correlation-CI-in-Python/\n",
    "    According to the following link (https://stats.stackexchange.com/questions/18887/how-to-calculate-a-confidence-interval-for-spearmans-rank-correlation),\n",
    "    this calculation can also be applied to obtain a CI for a spearman correlation coefficient.\n",
    "    '''\n",
    "    \n",
    "    # The following formula breaks when the correlation is either -1 or 1 (because of arctanh)\n",
    "    if abs(r) == 1:\n",
    "        return np.NaN, np.NaN\n",
    "    \n",
    "    r_z = np.arctanh(r)\n",
    "    se = 1/np.sqrt(sample_size-3)\n",
    "    z = stats.norm.ppf(1-alpha/2)\n",
    "    return np.tanh((r_z-z*se, r_z+z*se))"
   ]
  },
  {
   "cell_type": "code",
   "execution_count": 19,
   "metadata": {},
   "outputs": [
    {
     "data": {
      "text/plain": [
       "array([0.38095673, 0.49301014])"
      ]
     },
     "execution_count": 19,
     "metadata": {},
     "output_type": "execute_result"
    }
   ],
   "source": [
    "compute_pearson_CI(corr_coeff, data.shape[0], 0.05)"
   ]
  },
  {
   "cell_type": "markdown",
   "metadata": {},
   "source": [
    "##### Spearman's Rank Correlation\n",
    "\n",
    "Spearman's rank correlation coefficient or Spearman's rho is a nonparametric measure of rank correlation (statistical dependence between the rankings of two variables). It assesses how well the relationship between two variables can be described using a monotonic function. "
   ]
  },
  {
   "cell_type": "code",
   "execution_count": 21,
   "metadata": {},
   "outputs": [
    {
     "name": "stdout",
     "output_type": "stream",
     "text": [
      "The correlation coefficient is 0.5149946056788183 with a 2.1597981316449784e-55 p-value\n"
     ]
    }
   ],
   "source": [
    "# Using scipy, between two values (p-value only useful for n > 500)\n",
    "corr_coeff, p_value = stats.spearmanr(data['Attack'], data['Defense'])\n",
    "\n",
    "print('The correlation coefficient is {} with a {} p-value'.format(corr_coeff, p_value))"
   ]
  },
  {
   "cell_type": "code",
   "execution_count": 20,
   "metadata": {},
   "outputs": [
    {
     "data": {
      "text/html": [
       "<div>\n",
       "<style scoped>\n",
       "    .dataframe tbody tr th:only-of-type {\n",
       "        vertical-align: middle;\n",
       "    }\n",
       "\n",
       "    .dataframe tbody tr th {\n",
       "        vertical-align: top;\n",
       "    }\n",
       "\n",
       "    .dataframe thead th {\n",
       "        text-align: right;\n",
       "    }\n",
       "</style>\n",
       "<table border=\"1\" class=\"dataframe\">\n",
       "  <thead>\n",
       "    <tr style=\"text-align: right;\">\n",
       "      <th></th>\n",
       "      <th>Attack</th>\n",
       "      <th>HP</th>\n",
       "      <th>Defense</th>\n",
       "      <th>Speed</th>\n",
       "    </tr>\n",
       "  </thead>\n",
       "  <tbody>\n",
       "    <tr>\n",
       "      <th>Attack</th>\n",
       "      <td>1.000000</td>\n",
       "      <td>0.565734</td>\n",
       "      <td>0.514995</td>\n",
       "      <td>0.373443</td>\n",
       "    </tr>\n",
       "    <tr>\n",
       "      <th>HP</th>\n",
       "      <td>0.565734</td>\n",
       "      <td>1.000000</td>\n",
       "      <td>0.433402</td>\n",
       "      <td>0.265920</td>\n",
       "    </tr>\n",
       "    <tr>\n",
       "      <th>Defense</th>\n",
       "      <td>0.514995</td>\n",
       "      <td>0.433402</td>\n",
       "      <td>1.000000</td>\n",
       "      <td>0.092818</td>\n",
       "    </tr>\n",
       "    <tr>\n",
       "      <th>Speed</th>\n",
       "      <td>0.373443</td>\n",
       "      <td>0.265920</td>\n",
       "      <td>0.092818</td>\n",
       "      <td>1.000000</td>\n",
       "    </tr>\n",
       "  </tbody>\n",
       "</table>\n",
       "</div>"
      ],
      "text/plain": [
       "           Attack        HP   Defense     Speed\n",
       "Attack   1.000000  0.565734  0.514995  0.373443\n",
       "HP       0.565734  1.000000  0.433402  0.265920\n",
       "Defense  0.514995  0.433402  1.000000  0.092818\n",
       "Speed    0.373443  0.265920  0.092818  1.000000"
      ]
     },
     "execution_count": 20,
     "metadata": {},
     "output_type": "execute_result"
    }
   ],
   "source": [
    "# Using pandas, between all columns \n",
    "data[['Attack', 'HP', 'Defense', 'Speed']].corr(method='spearman')"
   ]
  },
  {
   "cell_type": "markdown",
   "metadata": {},
   "source": [
    "##### Kendall's Rank Correlation\n",
    "\n",
    "The Kendall rank correlation coefficient, commonly referred to as Kendall's tau coefficient, is a statistic used to measure the ordinal association between two measured quantities. A tau test is a non-parametric hypothesis test for statistical dependence based on the tau coefficient. "
   ]
  },
  {
   "cell_type": "code",
   "execution_count": 25,
   "metadata": {},
   "outputs": [
    {
     "name": "stdout",
     "output_type": "stream",
     "text": [
      "The correlation coefficient is 0.3695288719653139 with a 2.450787087464177e-52 p-value\n"
     ]
    }
   ],
   "source": [
    "# Using scipy, between two values (p-value only useful for n > 500)\n",
    "corr_coeff, p_value = stats.kendalltau(data['Attack'], data['Defense'])\n",
    "\n",
    "print('The correlation coefficient is {} with a {} p-value'.format(corr_coeff, p_value))"
   ]
  },
  {
   "cell_type": "code",
   "execution_count": 26,
   "metadata": {},
   "outputs": [
    {
     "data": {
      "text/html": [
       "<div>\n",
       "<style scoped>\n",
       "    .dataframe tbody tr th:only-of-type {\n",
       "        vertical-align: middle;\n",
       "    }\n",
       "\n",
       "    .dataframe tbody tr th {\n",
       "        vertical-align: top;\n",
       "    }\n",
       "\n",
       "    .dataframe thead th {\n",
       "        text-align: right;\n",
       "    }\n",
       "</style>\n",
       "<table border=\"1\" class=\"dataframe\">\n",
       "  <thead>\n",
       "    <tr style=\"text-align: right;\">\n",
       "      <th></th>\n",
       "      <th>Attack</th>\n",
       "      <th>HP</th>\n",
       "      <th>Defense</th>\n",
       "      <th>Speed</th>\n",
       "    </tr>\n",
       "  </thead>\n",
       "  <tbody>\n",
       "    <tr>\n",
       "      <th>Attack</th>\n",
       "      <td>1.000000</td>\n",
       "      <td>0.413993</td>\n",
       "      <td>0.369529</td>\n",
       "      <td>0.259124</td>\n",
       "    </tr>\n",
       "    <tr>\n",
       "      <th>HP</th>\n",
       "      <td>0.413993</td>\n",
       "      <td>1.000000</td>\n",
       "      <td>0.324233</td>\n",
       "      <td>0.180047</td>\n",
       "    </tr>\n",
       "    <tr>\n",
       "      <th>Defense</th>\n",
       "      <td>0.369529</td>\n",
       "      <td>0.324233</td>\n",
       "      <td>1.000000</td>\n",
       "      <td>0.063026</td>\n",
       "    </tr>\n",
       "    <tr>\n",
       "      <th>Speed</th>\n",
       "      <td>0.259124</td>\n",
       "      <td>0.180047</td>\n",
       "      <td>0.063026</td>\n",
       "      <td>1.000000</td>\n",
       "    </tr>\n",
       "  </tbody>\n",
       "</table>\n",
       "</div>"
      ],
      "text/plain": [
       "           Attack        HP   Defense     Speed\n",
       "Attack   1.000000  0.413993  0.369529  0.259124\n",
       "HP       0.413993  1.000000  0.324233  0.180047\n",
       "Defense  0.369529  0.324233  1.000000  0.063026\n",
       "Speed    0.259124  0.180047  0.063026  1.000000"
      ]
     },
     "execution_count": 26,
     "metadata": {},
     "output_type": "execute_result"
    }
   ],
   "source": [
    "# Using pandas, between all columns \n",
    "data[['Attack', 'HP', 'Defense', 'Speed']].corr(method='kendall')"
   ]
  },
  {
   "cell_type": "markdown",
   "metadata": {},
   "source": [
    "### Bootstrapping & Hypothesis Testing"
   ]
  },
  {
   "cell_type": "code",
   "execution_count": 182,
   "metadata": {},
   "outputs": [],
   "source": [
    "def bootstrap(data, num_samples, f):\n",
    "    \"\"\"\n",
    "    Generate statistics for data using bootstrapping.\n",
    "    \n",
    "    - data: series on which to sample data points\n",
    "    - num_samples: amount of samples to create (100 is a good value)\n",
    "    - f: function to be applied to the bootstrapped samples\n",
    "    \"\"\"\n",
    "    \n",
    "    # We sample the same amount of elements as in the dataset.\n",
    "    sample_size = len(data)\n",
    "    \n",
    "    # Initialize random states for reproducibility\n",
    "    random_states = pd.DataFrame(np.arange(num_samples))\n",
    "    \n",
    "    # Create function that samples the given metric accross the dataset\n",
    "    sample_and_eval = lambda r: f(data.sample(sample_size, random_state=int(r), replace=True))\n",
    "    \n",
    "    # Apply sampling function to each random state\n",
    "    bootstrapped_values = random_states.apply(sample_and_eval, axis=1)\n",
    "    \n",
    "    # Calculates mean and std of bootstrapped values\n",
    "    mean = np.mean(bootstrapped_values)\n",
    "    std = np.std(bootstrapped_values)\n",
    "\n",
    "    return mean, std, bootstrapped_values\n",
    "\n",
    "def two_sided_ci(data, alpha):\n",
    "    \n",
    "    low = np.quantile(bootstrapped_values, alpha / 2)\n",
    "    high = np.quantile(bootstrapped_values, 1 - alpha / 2)\n",
    "    \n",
    "    return np.array([low, high])"
   ]
  },
  {
   "cell_type": "code",
   "execution_count": 183,
   "metadata": {},
   "outputs": [],
   "source": [
    "bootstrapped_mean, bootstrapped_std, bootstrapped_values = bootstrap(data[['Attack','Defense']], 100, np.mean)"
   ]
  },
  {
   "cell_type": "code",
   "execution_count": 156,
   "metadata": {},
   "outputs": [
    {
     "data": {
      "text/plain": [
       "<matplotlib.axes._subplots.AxesSubplot at 0x1a188c90b8>"
      ]
     },
     "execution_count": 156,
     "metadata": {},
     "output_type": "execute_result"
    },
    {
     "data": {
      "image/png": "[encoded data removed]",
      "text/plain": [
       "<Figure size 432x288 with 1 Axes>"
      ]
     },
     "metadata": {
      "needs_background": "light"
     },
     "output_type": "display_data"
    }
   ],
   "source": [
    "# Plot 95% confidence interval with a notch-box-plot\n",
    "bootstrapped_values.plot.box(notch=True)"
   ]
  },
  {
   "cell_type": "code",
   "execution_count": 186,
   "metadata": {},
   "outputs": [
    {
     "data": {
      "text/plain": [
       "<matplotlib.axes._subplots.AxesSubplot at 0x1a18cd6438>"
      ]
     },
     "execution_count": 186,
     "metadata": {},
     "output_type": "execute_result"
    },
    {
     "data": {
      "image/png": "[encoded data removed]",
      "text/plain": [
       "<Figure size 432x288 with 1 Axes>"
      ]
     },
     "metadata": {
      "needs_background": "light"
     },
     "output_type": "display_data"
    }
   ],
   "source": [
    "# Compare values and std with bar plots\n",
    "bootstrapped_mean.plot.bar(yerr=bootstrapped_std, ecolor='r', ylim=[70, 82])"
   ]
  },
  {
   "cell_type": "code",
   "execution_count": 168,
   "metadata": {},
   "outputs": [],
   "source": []
  },
  {
   "cell_type": "code",
   "execution_count": null,
   "metadata": {},
   "outputs": [],
   "source": []
  },
  {
   "cell_type": "code",
   "execution_count": 63,
   "metadata": {},
   "outputs": [],
   "source": [
    "def CI_intervals_overlapping(tag1_data, tag2_data, alpha=0.05):\n",
    "    \"\"\"Calculate confidence intervals of the data and check for overlapping\"\"\"\n",
    "    \n",
    "    # Compute 95% confidence interval for tag1\n",
    "    tag1_CI = (np.quantile(tag1_data, alpha/2), np.quantile(tag1_data, 1 - alpha/2))\n",
    "    (lower_tag1, upper_tag1) = tag1_CI\n",
    "    \n",
    "    # Compute 95% confidence interval for tag2\n",
    "    tag2_CI = (np.quantile(tag2_data, alpha/2), np.quantile(tag2_data, 1 - alpha/2))\n",
    "    (lower_tag2, upper_tag2) = tag2_CI\n",
    "    \n",
    "    # Check if tag1 confidence interval overlaps with tag2 confidence interval\n",
    "    overlapping = not ((lower_tag2 < lower_tag1 and upper_tag2 < lower_tag1)  \\\n",
    "                    or \\\n",
    "                    (lower_tag1 < lower_tag2 and upper_tag1 < lower_tag2))\n",
    "    \n",
    "    return tag1_CI, tag2_CI, overlapping"
   ]
  },
  {
   "cell_type": "code",
   "execution_count": 158,
   "metadata": {},
   "outputs": [],
   "source": [
    "bootstrapped_mean, bootstrapped_std, bootstrapped_values = bootstrap(data[['Attack','Defense']], 100, lambda x: stats.pearsonr(x['Attack'], x['Defense'])[0])"
   ]
  },
  {
   "cell_type": "code",
   "execution_count": 163,
   "metadata": {},
   "outputs": [
    {
     "data": {
      "text/plain": [
       "0.5210156201190121"
      ]
     },
     "execution_count": 163,
     "metadata": {},
     "output_type": "execute_result"
    }
   ],
   "source": [
    "np.quantile(bootstrapped_values, 0.975)"
   ]
  },
  {
   "cell_type": "code",
   "execution_count": 164,
   "metadata": {},
   "outputs": [
    {
     "data": {
      "text/plain": [
       "0.37334819107318484"
      ]
     },
     "execution_count": 164,
     "metadata": {},
     "output_type": "execute_result"
    }
   ],
   "source": [
    "np.quantile(bootstrapped_values, 0.025)"
   ]
  },
  {
   "cell_type": "code",
   "execution_count": 165,
   "metadata": {},
   "outputs": [],
   "source": []
  },
  {
   "cell_type": "code",
   "execution_count": 167,
   "metadata": {},
   "outputs": [
    {
     "data": {
      "text/plain": [
       "(0.37334819107318484, 0.5210156201190121)"
      ]
     },
     "execution_count": 167,
     "metadata": {},
     "output_type": "execute_result"
    }
   ],
   "source": [
    "two_sided_ci(bootstrapped_values, 0.05)"
   ]
  },
  {
   "cell_type": "code",
   "execution_count": null,
   "metadata": {},
   "outputs": [],
   "source": []
  }
 ],
 "metadata": {
  "kernelspec": {
   "display_name": "Python [conda env:ada]",
   "language": "python",
   "name": "conda-env-ada-py"
  },
  "language_info": {
   "codemirror_mode": {
    "name": "ipython",
    "version": 3
   },
   "file_extension": ".py",
   "mimetype": "text/x-python",
   "name": "python",
   "nbconvert_exporter": "python",
   "pygments_lexer": "ipython3",
   "version": "3.6.8"
  }
 },
 "nbformat": 4,
 "nbformat_minor": 2
}
